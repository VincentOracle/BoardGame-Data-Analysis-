{
 "cells": [
  {
   "cell_type": "code",
   "execution_count": 15,
   "id": "5671e0f2",
   "metadata": {},
   "outputs": [],
   "source": [
    "#Importing the Necessary packages\n",
    "import pandas as pd\n",
    "from sklearn.model_selection import train_test_split"
   ]
  },
  {
   "cell_type": "code",
   "execution_count": 16,
   "id": "52da7eae",
   "metadata": {},
   "outputs": [
    {
     "name": "stdout",
     "output_type": "stream",
     "text": [
      "Mean rating in the train sample: 6.379742601970954\n"
     ]
    }
   ],
   "source": [
    "# Question 1\n",
    "games = pd.read_csv(\"C:\\\\Users\\\\n\\\\Downloads\\\\board_games.csv\")\n",
    "train_sample, test_sample = train_test_split(games, test_size=0.3, random_state=1031)\n",
    "\n",
    "mean_rating_train = train_sample['rating'].mean()\n",
    "print(f\"Mean rating in the train sample: {mean_rating_train}\")"
   ]
  },
  {
   "cell_type": "code",
   "execution_count": 17,
   "id": "4e1f27f2",
   "metadata": {},
   "outputs": [
    {
     "name": "stdout",
     "output_type": "stream",
     "text": [
      "The most strongly correlated variable with game rating: rating\n"
     ]
    }
   ],
   "source": [
    "# Question 2\n",
    "correlations = train_sample[['min_age', 'age_of_game', 'max_players', 'min_players', 'playtime', 'rating']].corr()\n",
    "most_correlated_variable = correlations['rating'].abs().idxmax()\n",
    "print(f\"The most strongly correlated variable with game rating: {most_correlated_variable}\")"
   ]
  },
  {
   "cell_type": "code",
   "execution_count": 18,
   "id": "2ab6e2b1",
   "metadata": {},
   "outputs": [
    {
     "name": "stdout",
     "output_type": "stream",
     "text": [
      "The most popular game category: Wargame\n"
     ]
    }
   ],
   "source": [
    "\n",
    "# Question 3\n",
    "game_categories = games.iloc[:, 10:30].apply(lambda x: x.map({'Yes': 1, 'No': 0}))\n",
    "most_popular_category = game_categories.sum().idxmax()\n",
    "print(f\"The most popular game category: {most_popular_category}\")\n"
   ]
  },
  {
   "cell_type": "code",
   "execution_count": 19,
   "id": "d4db2f9e",
   "metadata": {},
   "outputs": [
    {
     "name": "stdout",
     "output_type": "stream",
     "text": [
      "The game category with the highest rating: 1\n"
     ]
    }
   ],
   "source": [
    "# Question 4\n",
    "category_ratings = pd.concat([games['rating'], game_categories], axis=1)\n",
    "highest_rated_category = category_ratings.groupby(most_popular_category)['rating'].mean().idxmax()\n",
    "print(f\"The game category with the highest rating: {highest_rated_category}\")\n"
   ]
  },
  {
   "cell_type": "code",
   "execution_count": null,
   "id": "a01cf5ba",
   "metadata": {},
   "outputs": [],
   "source": [
    "#THE END"
   ]
  }
 ],
 "metadata": {
  "kernelspec": {
   "display_name": "Python 3 (ipykernel)",
   "language": "python",
   "name": "python3"
  },
  "language_info": {
   "codemirror_mode": {
    "name": "ipython",
    "version": 3
   },
   "file_extension": ".py",
   "mimetype": "text/x-python",
   "name": "python",
   "nbconvert_exporter": "python",
   "pygments_lexer": "ipython3",
   "version": "3.9.12"
  }
 },
 "nbformat": 4,
 "nbformat_minor": 5
}
