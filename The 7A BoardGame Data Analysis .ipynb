{
 "cells": [
  {
   "cell_type": "code",
   "execution_count": 29,
   "id": "ec49505c",
   "metadata": {},
   "outputs": [],
   "source": [
    "#Importing the Necessary packages\n",
    "import pandas as pd\n",
    "from sklearn.model_selection import train_test_split"
   ]
  },
  {
   "cell_type": "code",
   "execution_count": 30,
   "id": "ddc3ebe4",
   "metadata": {},
   "outputs": [
    {
     "name": "stdout",
     "output_type": "stream",
     "text": [
      "Mean rating in the train sample: 6.379742601970954\n"
     ]
    }
   ],
   "source": [
    "# Question 1\n",
    "games = pd.read_csv(\"C:\\\\Users\\\\n\\\\Downloads\\\\board_games (1).csv\")\n",
    "train_sample, test_sample = train_test_split(games, test_size=0.3, random_state=1031)\n",
    "mean_rating_train = train_sample['rating'].mean()\n",
    "print(f\"Mean rating in the train sample: {mean_rating_train}\")"
   ]
  },
  {
   "cell_type": "code",
   "execution_count": 37,
   "id": "c03f9e2b",
   "metadata": {},
   "outputs": [
    {
     "name": "stdout",
     "output_type": "stream",
     "text": [
      "Variable with the strongest correlation with game 'rating': b\n"
     ]
    }
   ],
   "source": [
    "# Question 2\n",
    "# Calculate the correlation coefficients\n",
    "correlations = games[['min_age', 'age_of_game', 'max_players', 'min_players', 'playtime', 'rating']].corr()\n",
    "\n",
    "# Find the variable with the highest absolute correlation coefficient\n",
    "correlations = correlations.drop('rating')\n",
    "strongest_correlation = correlations['rating'].abs().idxmax()\n",
    "\n",
    "# Map the variable to the corresponding option\n",
    "variable_options = {\n",
    "    'min_age': 'a',\n",
    "    'age_of_game': 'b',\n",
    "    'max_players': 'c',\n",
    "    'min_players': 'd',\n",
    "    'playtime': 'e'\n",
    "}\n",
    "\n",
    "strongest_variable = variable_options[strongest_correlation]\n",
    "print(\"Variable with the strongest correlation with game 'rating':\", strongest_variable)\n"
   ]
  },
  {
   "cell_type": "code",
   "execution_count": 38,
   "id": "811f8678",
   "metadata": {},
   "outputs": [
    {
     "name": "stdout",
     "output_type": "stream",
     "text": [
      "Most popular game category: CardGame\n"
     ]
    }
   ],
   "source": [
    "#Question 3\n",
    "# Count the number of games in each category\n",
    "category_counts = games[['Fantasy', 'Economic', 'Wargame', 'CardGame', 'Fighting']].apply(pd.Series.value_counts).loc['Yes']\n",
    "\n",
    "# Find the category with the highest count\n",
    "most_popular_category = category_counts.idxmax()\n",
    "\n",
    "print(\"Most popular game category:\", most_popular_category)\n"
   ]
  },
  {
   "cell_type": "code",
   "execution_count": 45,
   "id": "9601f2ef",
   "metadata": {},
   "outputs": [
    {
     "name": "stdout",
     "output_type": "stream",
     "text": [
      "Game category with the highest rating: ('Yes', 'Yes', 'No', 'No', 'Yes')\n"
     ]
    }
   ],
   "source": [
    "# Question 4\n",
    "# Calculate the average rating for each category\n",
    "# This code uses the groupby() function to group the games by the category columns \n",
    "# ('Economic', 'Fighting', 'CardGame', 'Fantasy', 'Wargame'), and then calculates the average rating \n",
    "# for each category using the mean() function on the 'rating' column.\n",
    "\n",
    "category_ratings = games.groupby(['Economic', 'Fighting', 'CardGame', 'Fantasy', 'Wargame'])['rating'].mean()\n",
    "\n",
    "# Find the category with the highest average rating\n",
    "highest_rating_category = category_ratings.idxmax()\n",
    "\n",
    "print(\"Game category with the highest rating:\", highest_rating_category)\n"
   ]
  },
  {
   "cell_type": "code",
   "execution_count": 44,
   "id": "52d83acb",
   "metadata": {},
   "outputs": [],
   "source": [
    "#This is the End"
   ]
  }
 ],
 "metadata": {
  "kernelspec": {
   "display_name": "Python 3 (ipykernel)",
   "language": "python",
   "name": "python3"
  },
  "language_info": {
   "codemirror_mode": {
    "name": "ipython",
    "version": 3
   },
   "file_extension": ".py",
   "mimetype": "text/x-python",
   "name": "python",
   "nbconvert_exporter": "python",
   "pygments_lexer": "ipython3",
   "version": "3.9.12"
  }
 },
 "nbformat": 4,
 "nbformat_minor": 5
}
